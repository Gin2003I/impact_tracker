{
 "cells": [
  {
   "cell_type": "code",
   "execution_count": 12,
   "id": "56bd8eec-6f71-4653-b6b4-4e268624060d",
   "metadata": {},
   "outputs": [
    {
     "name": "stdout",
     "output_type": "stream",
     "text": [
      "Requirement already satisfied: pyinstaller in c:\\users\\omarbell\\appdata\\local\\anaconda3\\lib\\site-packages (6.11.1)\n",
      "Requirement already satisfied: dash in c:\\users\\omarbell\\appdata\\local\\anaconda3\\lib\\site-packages (2.18.2)\n",
      "Requirement already satisfied: selenium in c:\\users\\omarbell\\appdata\\local\\anaconda3\\lib\\site-packages (4.27.0)\n",
      "Requirement already satisfied: setuptools>=42.0.0 in c:\\users\\omarbell\\appdata\\local\\anaconda3\\lib\\site-packages (from pyinstaller) (75.1.0)\n",
      "Requirement already satisfied: altgraph in c:\\users\\omarbell\\appdata\\local\\anaconda3\\lib\\site-packages (from pyinstaller) (0.17.4)\n",
      "Requirement already satisfied: pyinstaller-hooks-contrib>=2024.9 in c:\\users\\omarbell\\appdata\\local\\anaconda3\\lib\\site-packages (from pyinstaller) (2024.10)\n",
      "Requirement already satisfied: packaging>=22.0 in c:\\users\\omarbell\\appdata\\local\\anaconda3\\lib\\site-packages (from pyinstaller) (24.1)\n",
      "Requirement already satisfied: pefile!=2024.8.26,>=2022.5.30 in c:\\users\\omarbell\\appdata\\local\\anaconda3\\lib\\site-packages (from pyinstaller) (2023.2.7)\n",
      "Requirement already satisfied: pywin32-ctypes>=0.2.1 in c:\\users\\omarbell\\appdata\\local\\anaconda3\\lib\\site-packages (from pyinstaller) (0.2.2)\n",
      "Requirement already satisfied: Flask<3.1,>=1.0.4 in c:\\users\\omarbell\\appdata\\local\\anaconda3\\lib\\site-packages (from dash) (3.0.3)\n",
      "Requirement already satisfied: Werkzeug<3.1 in c:\\users\\omarbell\\appdata\\local\\anaconda3\\lib\\site-packages (from dash) (3.0.3)\n",
      "Requirement already satisfied: plotly>=5.0.0 in c:\\users\\omarbell\\appdata\\local\\anaconda3\\lib\\site-packages (from dash) (5.24.1)\n",
      "Requirement already satisfied: dash-html-components==2.0.0 in c:\\users\\omarbell\\appdata\\local\\anaconda3\\lib\\site-packages (from dash) (2.0.0)\n",
      "Requirement already satisfied: dash-core-components==2.0.0 in c:\\users\\omarbell\\appdata\\local\\anaconda3\\lib\\site-packages (from dash) (2.0.0)\n",
      "Requirement already satisfied: dash-table==5.0.0 in c:\\users\\omarbell\\appdata\\local\\anaconda3\\lib\\site-packages (from dash) (5.0.0)\n",
      "Requirement already satisfied: importlib-metadata in c:\\users\\omarbell\\appdata\\local\\anaconda3\\lib\\site-packages (from dash) (7.0.1)\n",
      "Requirement already satisfied: typing-extensions>=4.1.1 in c:\\users\\omarbell\\appdata\\local\\anaconda3\\lib\\site-packages (from dash) (4.11.0)\n",
      "Requirement already satisfied: requests in c:\\users\\omarbell\\appdata\\local\\anaconda3\\lib\\site-packages (from dash) (2.32.3)\n",
      "Requirement already satisfied: retrying in c:\\users\\omarbell\\appdata\\local\\anaconda3\\lib\\site-packages (from dash) (1.3.4)\n",
      "Requirement already satisfied: nest-asyncio in c:\\users\\omarbell\\appdata\\local\\anaconda3\\lib\\site-packages (from dash) (1.6.0)\n",
      "Requirement already satisfied: urllib3<3,>=1.26 in c:\\users\\omarbell\\appdata\\local\\anaconda3\\lib\\site-packages (from urllib3[socks]<3,>=1.26->selenium) (2.2.3)\n",
      "Requirement already satisfied: trio~=0.17 in c:\\users\\omarbell\\appdata\\local\\anaconda3\\lib\\site-packages (from selenium) (0.27.0)\n",
      "Requirement already satisfied: trio-websocket~=0.9 in c:\\users\\omarbell\\appdata\\local\\anaconda3\\lib\\site-packages (from selenium) (0.11.1)\n",
      "Requirement already satisfied: certifi>=2021.10.8 in c:\\users\\omarbell\\appdata\\local\\anaconda3\\lib\\site-packages (from selenium) (2024.8.30)\n",
      "Requirement already satisfied: websocket-client~=1.8 in c:\\users\\omarbell\\appdata\\local\\anaconda3\\lib\\site-packages (from selenium) (1.8.0)\n",
      "Requirement already satisfied: Jinja2>=3.1.2 in c:\\users\\omarbell\\appdata\\local\\anaconda3\\lib\\site-packages (from Flask<3.1,>=1.0.4->dash) (3.1.4)\n",
      "Requirement already satisfied: itsdangerous>=2.1.2 in c:\\users\\omarbell\\appdata\\local\\anaconda3\\lib\\site-packages (from Flask<3.1,>=1.0.4->dash) (2.2.0)\n",
      "Requirement already satisfied: click>=8.1.3 in c:\\users\\omarbell\\appdata\\local\\anaconda3\\lib\\site-packages (from Flask<3.1,>=1.0.4->dash) (8.1.7)\n",
      "Requirement already satisfied: blinker>=1.6.2 in c:\\users\\omarbell\\appdata\\local\\anaconda3\\lib\\site-packages (from Flask<3.1,>=1.0.4->dash) (1.6.2)\n",
      "Requirement already satisfied: tenacity>=6.2.0 in c:\\users\\omarbell\\appdata\\local\\anaconda3\\lib\\site-packages (from plotly>=5.0.0->dash) (8.2.3)\n",
      "Requirement already satisfied: attrs>=23.2.0 in c:\\users\\omarbell\\appdata\\local\\anaconda3\\lib\\site-packages (from trio~=0.17->selenium) (24.2.0)\n",
      "Requirement already satisfied: sortedcontainers in c:\\users\\omarbell\\appdata\\local\\anaconda3\\lib\\site-packages (from trio~=0.17->selenium) (2.4.0)\n",
      "Requirement already satisfied: idna in c:\\users\\omarbell\\appdata\\local\\anaconda3\\lib\\site-packages (from trio~=0.17->selenium) (3.7)\n",
      "Requirement already satisfied: outcome in c:\\users\\omarbell\\appdata\\local\\anaconda3\\lib\\site-packages (from trio~=0.17->selenium) (1.3.0.post0)\n",
      "Requirement already satisfied: sniffio>=1.3.0 in c:\\users\\omarbell\\appdata\\local\\anaconda3\\lib\\site-packages (from trio~=0.17->selenium) (1.3.0)\n",
      "Requirement already satisfied: cffi>=1.14 in c:\\users\\omarbell\\appdata\\local\\anaconda3\\lib\\site-packages (from trio~=0.17->selenium) (1.17.1)\n",
      "Requirement already satisfied: wsproto>=0.14 in c:\\users\\omarbell\\appdata\\local\\anaconda3\\lib\\site-packages (from trio-websocket~=0.9->selenium) (1.2.0)\n",
      "Requirement already satisfied: pysocks!=1.5.7,<2.0,>=1.5.6 in c:\\users\\omarbell\\appdata\\local\\anaconda3\\lib\\site-packages (from urllib3[socks]<3,>=1.26->selenium) (1.7.1)\n",
      "Requirement already satisfied: MarkupSafe>=2.1.1 in c:\\users\\omarbell\\appdata\\local\\anaconda3\\lib\\site-packages (from Werkzeug<3.1->dash) (2.1.3)\n",
      "Requirement already satisfied: zipp>=0.5 in c:\\users\\omarbell\\appdata\\local\\anaconda3\\lib\\site-packages (from importlib-metadata->dash) (3.17.0)\n",
      "Requirement already satisfied: charset-normalizer<4,>=2 in c:\\users\\omarbell\\appdata\\local\\anaconda3\\lib\\site-packages (from requests->dash) (3.3.2)\n",
      "Requirement already satisfied: six>=1.7.0 in c:\\users\\omarbell\\appdata\\local\\anaconda3\\lib\\site-packages (from retrying->dash) (1.16.0)\n",
      "Requirement already satisfied: pycparser in c:\\users\\omarbell\\appdata\\local\\anaconda3\\lib\\site-packages (from cffi>=1.14->trio~=0.17->selenium) (2.21)\n",
      "Requirement already satisfied: colorama in c:\\users\\omarbell\\appdata\\local\\anaconda3\\lib\\site-packages (from click>=8.1.3->Flask<3.1,>=1.0.4->dash) (0.4.6)\n",
      "Requirement already satisfied: h11<1,>=0.9.0 in c:\\users\\omarbell\\appdata\\local\\anaconda3\\lib\\site-packages (from wsproto>=0.14->trio-websocket~=0.9->selenium) (0.14.0)\n",
      "^C\n"
     ]
    }
   ],
   "source": [
    "# Step 1: Install necessary packages if not already installed\n",
    "!pip install pyinstaller dash selenium\n",
    "\n",
    "# Step 2: Run PyInstaller to package the app\n",
    "!pyinstaller --onefile --add-data \"pages;pages\" app.py\n"
   ]
  },
  {
   "cell_type": "code",
   "execution_count": 14,
   "id": "4b35d592-0710-439b-8caa-7bb9d915fa5d",
   "metadata": {},
   "outputs": [
    {
     "name": "stderr",
     "output_type": "stream",
     "text": [
      "1779 INFO: PyInstaller: 6.11.1, contrib hooks: 2024.10\n",
      "1779 INFO: Python: 3.12.7 (conda)\n",
      "1905 INFO: Platform: Windows-11-10.0.22631-SP0\n",
      "1905 INFO: Python environment: C:\\Users\\omarbell\\AppData\\Local\\anaconda3\n",
      "1905 INFO: wrote C:\\Users\\omarbell\\OneDrive - myidemia\\Bureau\\dasboard\\app.spec\n",
      "1905 INFO: Module search paths (PYTHONPATH):\n",
      "['C:\\\\Users\\\\omarbell\\\\AppData\\\\Local\\\\anaconda3\\\\Scripts\\\\pyinstaller.exe',\n",
      " 'C:\\\\Users\\\\omarbell\\\\AppData\\\\Local\\\\anaconda3\\\\python312.zip',\n",
      " 'C:\\\\Users\\\\omarbell\\\\AppData\\\\Local\\\\anaconda3\\\\DLLs',\n",
      " 'C:\\\\Users\\\\omarbell\\\\AppData\\\\Local\\\\anaconda3\\\\Lib',\n",
      " 'C:\\\\Users\\\\omarbell\\\\AppData\\\\Local\\\\anaconda3',\n",
      " 'C:\\\\Users\\\\omarbell\\\\AppData\\\\Local\\\\anaconda3\\\\Lib\\\\site-packages',\n",
      " 'C:\\\\Users\\\\omarbell\\\\AppData\\\\Local\\\\anaconda3\\\\Lib\\\\site-packages\\\\win32',\n",
      " 'C:\\\\Users\\\\omarbell\\\\AppData\\\\Local\\\\anaconda3\\\\Lib\\\\site-packages\\\\win32\\\\lib',\n",
      " 'C:\\\\Users\\\\omarbell\\\\AppData\\\\Local\\\\anaconda3\\\\Lib\\\\site-packages\\\\Pythonwin',\n",
      " 'C:\\\\Users\\\\omarbell\\\\AppData\\\\Local\\\\anaconda3\\\\Lib\\\\site-packages\\\\setuptools\\\\_vendor',\n",
      " 'C:\\\\Users\\\\omarbell\\\\OneDrive - myidemia\\\\Bureau\\\\dasboard']\n",
      "4234 INFO: Appending 'datas' from .spec\n",
      "Unable to find 'C:\\\\path\\\\to\\\\your\\\\data' when adding binary and data files.\n"
     ]
    }
   ],
   "source": [
    "import os\n",
    "os.chdir(r\"C:\\Users\\omarbell\\OneDrive - myidemia\\Bureau\\dasboard\")\n"
   ]
  }
 ],
 "metadata": {
  "kernelspec": {
   "display_name": "Python 3 (ipykernel)",
   "language": "python",
   "name": "python3"
  },
  "language_info": {
   "codemirror_mode": {
    "name": "ipython",
    "version": 3
   },
   "file_extension": ".py",
   "mimetype": "text/x-python",
   "name": "python",
   "nbconvert_exporter": "python",
   "pygments_lexer": "ipython3",
   "version": "3.12.7"
  }
 },
 "nbformat": 4,
 "nbformat_minor": 5
}
